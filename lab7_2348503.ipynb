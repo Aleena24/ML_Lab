{
  "nbformat": 4,
  "nbformat_minor": 0,
  "metadata": {
    "colab": {
      "provenance": [],
      "authorship_tag": "ABX9TyPKjP+BIV/QR4pHAOVA+GKt",
      "include_colab_link": true
    },
    "kernelspec": {
      "name": "python3",
      "display_name": "Python 3"
    },
    "language_info": {
      "name": "python"
    }
  },
  "cells": [
    {
      "cell_type": "markdown",
      "metadata": {
        "id": "view-in-github",
        "colab_type": "text"
      },
      "source": [
        "<a href=\"https://colab.research.google.com/github/Aleena24/ML_Lab/blob/main/lab7_2348503.ipynb\" target=\"_parent\"><img src=\"https://colab.research.google.com/assets/colab-badge.svg\" alt=\"Open In Colab\"/></a>"
      ]
    },
    {
      "cell_type": "code",
      "execution_count": 41,
      "metadata": {
        "id": "LMlF167vGGpP"
      },
      "outputs": [],
      "source": [
        "import pandas as pd\n",
        "import matplotlib.pyplot as plt\n",
        "import seaborn as sns\n",
        "import numpy as np\n",
        "from sklearn.tree import DecisionTreeClassifier\n",
        "from sklearn.model_selection import train_test_split\n",
        "import os"
      ]
    },
    {
      "cell_type": "code",
      "source": [
        "df = pd.read_csv('/content/employee_data.csv')\n",
        "df.head()"
      ],
      "metadata": {
        "id": "zaBRTGaAG7dI",
        "colab": {
          "base_uri": "https://localhost:8080/",
          "height": 226
        },
        "outputId": "95380744-1b76-4117-cd03-97c9ad01f45a"
      },
      "execution_count": null,
      "outputs": [
        {
          "output_type": "execute_result",
          "data": {
            "text/plain": [
              "   avg_monthly_hrs   department  filed_complaint  last_evaluation  n_projects  \\\n",
              "0              221  engineering              NaN         0.932868           4   \n",
              "1              232      support              NaN              NaN           3   \n",
              "2              184        sales              NaN         0.788830           3   \n",
              "3              206        sales              NaN         0.575688           4   \n",
              "4              249        sales              NaN         0.845217           3   \n",
              "\n",
              "   recently_promoted  salary  satisfaction    status  tenure  \n",
              "0                NaN     low      0.829896      Left     5.0  \n",
              "1                NaN     low      0.834544  Employed     2.0  \n",
              "2                NaN  medium      0.834988  Employed     3.0  \n",
              "3                NaN     low      0.424764  Employed     2.0  \n",
              "4                NaN     low      0.779043  Employed     3.0  "
            ],
            "text/html": [
              "\n",
              "  <div id=\"df-be520b72-ca24-4b9e-b3d0-1a7ebd1cd3be\" class=\"colab-df-container\">\n",
              "    <div>\n",
              "<style scoped>\n",
              "    .dataframe tbody tr th:only-of-type {\n",
              "        vertical-align: middle;\n",
              "    }\n",
              "\n",
              "    .dataframe tbody tr th {\n",
              "        vertical-align: top;\n",
              "    }\n",
              "\n",
              "    .dataframe thead th {\n",
              "        text-align: right;\n",
              "    }\n",
              "</style>\n",
              "<table border=\"1\" class=\"dataframe\">\n",
              "  <thead>\n",
              "    <tr style=\"text-align: right;\">\n",
              "      <th></th>\n",
              "      <th>avg_monthly_hrs</th>\n",
              "      <th>department</th>\n",
              "      <th>filed_complaint</th>\n",
              "      <th>last_evaluation</th>\n",
              "      <th>n_projects</th>\n",
              "      <th>recently_promoted</th>\n",
              "      <th>salary</th>\n",
              "      <th>satisfaction</th>\n",
              "      <th>status</th>\n",
              "      <th>tenure</th>\n",
              "    </tr>\n",
              "  </thead>\n",
              "  <tbody>\n",
              "    <tr>\n",
              "      <th>0</th>\n",
              "      <td>221</td>\n",
              "      <td>engineering</td>\n",
              "      <td>NaN</td>\n",
              "      <td>0.932868</td>\n",
              "      <td>4</td>\n",
              "      <td>NaN</td>\n",
              "      <td>low</td>\n",
              "      <td>0.829896</td>\n",
              "      <td>Left</td>\n",
              "      <td>5.0</td>\n",
              "    </tr>\n",
              "    <tr>\n",
              "      <th>1</th>\n",
              "      <td>232</td>\n",
              "      <td>support</td>\n",
              "      <td>NaN</td>\n",
              "      <td>NaN</td>\n",
              "      <td>3</td>\n",
              "      <td>NaN</td>\n",
              "      <td>low</td>\n",
              "      <td>0.834544</td>\n",
              "      <td>Employed</td>\n",
              "      <td>2.0</td>\n",
              "    </tr>\n",
              "    <tr>\n",
              "      <th>2</th>\n",
              "      <td>184</td>\n",
              "      <td>sales</td>\n",
              "      <td>NaN</td>\n",
              "      <td>0.788830</td>\n",
              "      <td>3</td>\n",
              "      <td>NaN</td>\n",
              "      <td>medium</td>\n",
              "      <td>0.834988</td>\n",
              "      <td>Employed</td>\n",
              "      <td>3.0</td>\n",
              "    </tr>\n",
              "    <tr>\n",
              "      <th>3</th>\n",
              "      <td>206</td>\n",
              "      <td>sales</td>\n",
              "      <td>NaN</td>\n",
              "      <td>0.575688</td>\n",
              "      <td>4</td>\n",
              "      <td>NaN</td>\n",
              "      <td>low</td>\n",
              "      <td>0.424764</td>\n",
              "      <td>Employed</td>\n",
              "      <td>2.0</td>\n",
              "    </tr>\n",
              "    <tr>\n",
              "      <th>4</th>\n",
              "      <td>249</td>\n",
              "      <td>sales</td>\n",
              "      <td>NaN</td>\n",
              "      <td>0.845217</td>\n",
              "      <td>3</td>\n",
              "      <td>NaN</td>\n",
              "      <td>low</td>\n",
              "      <td>0.779043</td>\n",
              "      <td>Employed</td>\n",
              "      <td>3.0</td>\n",
              "    </tr>\n",
              "  </tbody>\n",
              "</table>\n",
              "</div>\n",
              "    <div class=\"colab-df-buttons\">\n",
              "\n",
              "  <div class=\"colab-df-container\">\n",
              "    <button class=\"colab-df-convert\" onclick=\"convertToInteractive('df-be520b72-ca24-4b9e-b3d0-1a7ebd1cd3be')\"\n",
              "            title=\"Convert this dataframe to an interactive table.\"\n",
              "            style=\"display:none;\">\n",
              "\n",
              "  <svg xmlns=\"http://www.w3.org/2000/svg\" height=\"24px\" viewBox=\"0 -960 960 960\">\n",
              "    <path d=\"M120-120v-720h720v720H120Zm60-500h600v-160H180v160Zm220 220h160v-160H400v160Zm0 220h160v-160H400v160ZM180-400h160v-160H180v160Zm440 0h160v-160H620v160ZM180-180h160v-160H180v160Zm440 0h160v-160H620v160Z\"/>\n",
              "  </svg>\n",
              "    </button>\n",
              "\n",
              "  <style>\n",
              "    .colab-df-container {\n",
              "      display:flex;\n",
              "      gap: 12px;\n",
              "    }\n",
              "\n",
              "    .colab-df-convert {\n",
              "      background-color: #E8F0FE;\n",
              "      border: none;\n",
              "      border-radius: 50%;\n",
              "      cursor: pointer;\n",
              "      display: none;\n",
              "      fill: #1967D2;\n",
              "      height: 32px;\n",
              "      padding: 0 0 0 0;\n",
              "      width: 32px;\n",
              "    }\n",
              "\n",
              "    .colab-df-convert:hover {\n",
              "      background-color: #E2EBFA;\n",
              "      box-shadow: 0px 1px 2px rgba(60, 64, 67, 0.3), 0px 1px 3px 1px rgba(60, 64, 67, 0.15);\n",
              "      fill: #174EA6;\n",
              "    }\n",
              "\n",
              "    .colab-df-buttons div {\n",
              "      margin-bottom: 4px;\n",
              "    }\n",
              "\n",
              "    [theme=dark] .colab-df-convert {\n",
              "      background-color: #3B4455;\n",
              "      fill: #D2E3FC;\n",
              "    }\n",
              "\n",
              "    [theme=dark] .colab-df-convert:hover {\n",
              "      background-color: #434B5C;\n",
              "      box-shadow: 0px 1px 3px 1px rgba(0, 0, 0, 0.15);\n",
              "      filter: drop-shadow(0px 1px 2px rgba(0, 0, 0, 0.3));\n",
              "      fill: #FFFFFF;\n",
              "    }\n",
              "  </style>\n",
              "\n",
              "    <script>\n",
              "      const buttonEl =\n",
              "        document.querySelector('#df-be520b72-ca24-4b9e-b3d0-1a7ebd1cd3be button.colab-df-convert');\n",
              "      buttonEl.style.display =\n",
              "        google.colab.kernel.accessAllowed ? 'block' : 'none';\n",
              "\n",
              "      async function convertToInteractive(key) {\n",
              "        const element = document.querySelector('#df-be520b72-ca24-4b9e-b3d0-1a7ebd1cd3be');\n",
              "        const dataTable =\n",
              "          await google.colab.kernel.invokeFunction('convertToInteractive',\n",
              "                                                    [key], {});\n",
              "        if (!dataTable) return;\n",
              "\n",
              "        const docLinkHtml = 'Like what you see? Visit the ' +\n",
              "          '<a target=\"_blank\" href=https://colab.research.google.com/notebooks/data_table.ipynb>data table notebook</a>'\n",
              "          + ' to learn more about interactive tables.';\n",
              "        element.innerHTML = '';\n",
              "        dataTable['output_type'] = 'display_data';\n",
              "        await google.colab.output.renderOutput(dataTable, element);\n",
              "        const docLink = document.createElement('div');\n",
              "        docLink.innerHTML = docLinkHtml;\n",
              "        element.appendChild(docLink);\n",
              "      }\n",
              "    </script>\n",
              "  </div>\n",
              "\n",
              "\n",
              "<div id=\"df-5a184a12-c8bd-4f1f-b1bf-7b7b6ddc1c57\">\n",
              "  <button class=\"colab-df-quickchart\" onclick=\"quickchart('df-5a184a12-c8bd-4f1f-b1bf-7b7b6ddc1c57')\"\n",
              "            title=\"Suggest charts.\"\n",
              "            style=\"display:none;\">\n",
              "\n",
              "<svg xmlns=\"http://www.w3.org/2000/svg\" height=\"24px\"viewBox=\"0 0 24 24\"\n",
              "     width=\"24px\">\n",
              "    <g>\n",
              "        <path d=\"M19 3H5c-1.1 0-2 .9-2 2v14c0 1.1.9 2 2 2h14c1.1 0 2-.9 2-2V5c0-1.1-.9-2-2-2zM9 17H7v-7h2v7zm4 0h-2V7h2v10zm4 0h-2v-4h2v4z\"/>\n",
              "    </g>\n",
              "</svg>\n",
              "  </button>\n",
              "\n",
              "<style>\n",
              "  .colab-df-quickchart {\n",
              "      --bg-color: #E8F0FE;\n",
              "      --fill-color: #1967D2;\n",
              "      --hover-bg-color: #E2EBFA;\n",
              "      --hover-fill-color: #174EA6;\n",
              "      --disabled-fill-color: #AAA;\n",
              "      --disabled-bg-color: #DDD;\n",
              "  }\n",
              "\n",
              "  [theme=dark] .colab-df-quickchart {\n",
              "      --bg-color: #3B4455;\n",
              "      --fill-color: #D2E3FC;\n",
              "      --hover-bg-color: #434B5C;\n",
              "      --hover-fill-color: #FFFFFF;\n",
              "      --disabled-bg-color: #3B4455;\n",
              "      --disabled-fill-color: #666;\n",
              "  }\n",
              "\n",
              "  .colab-df-quickchart {\n",
              "    background-color: var(--bg-color);\n",
              "    border: none;\n",
              "    border-radius: 50%;\n",
              "    cursor: pointer;\n",
              "    display: none;\n",
              "    fill: var(--fill-color);\n",
              "    height: 32px;\n",
              "    padding: 0;\n",
              "    width: 32px;\n",
              "  }\n",
              "\n",
              "  .colab-df-quickchart:hover {\n",
              "    background-color: var(--hover-bg-color);\n",
              "    box-shadow: 0 1px 2px rgba(60, 64, 67, 0.3), 0 1px 3px 1px rgba(60, 64, 67, 0.15);\n",
              "    fill: var(--button-hover-fill-color);\n",
              "  }\n",
              "\n",
              "  .colab-df-quickchart-complete:disabled,\n",
              "  .colab-df-quickchart-complete:disabled:hover {\n",
              "    background-color: var(--disabled-bg-color);\n",
              "    fill: var(--disabled-fill-color);\n",
              "    box-shadow: none;\n",
              "  }\n",
              "\n",
              "  .colab-df-spinner {\n",
              "    border: 2px solid var(--fill-color);\n",
              "    border-color: transparent;\n",
              "    border-bottom-color: var(--fill-color);\n",
              "    animation:\n",
              "      spin 1s steps(1) infinite;\n",
              "  }\n",
              "\n",
              "  @keyframes spin {\n",
              "    0% {\n",
              "      border-color: transparent;\n",
              "      border-bottom-color: var(--fill-color);\n",
              "      border-left-color: var(--fill-color);\n",
              "    }\n",
              "    20% {\n",
              "      border-color: transparent;\n",
              "      border-left-color: var(--fill-color);\n",
              "      border-top-color: var(--fill-color);\n",
              "    }\n",
              "    30% {\n",
              "      border-color: transparent;\n",
              "      border-left-color: var(--fill-color);\n",
              "      border-top-color: var(--fill-color);\n",
              "      border-right-color: var(--fill-color);\n",
              "    }\n",
              "    40% {\n",
              "      border-color: transparent;\n",
              "      border-right-color: var(--fill-color);\n",
              "      border-top-color: var(--fill-color);\n",
              "    }\n",
              "    60% {\n",
              "      border-color: transparent;\n",
              "      border-right-color: var(--fill-color);\n",
              "    }\n",
              "    80% {\n",
              "      border-color: transparent;\n",
              "      border-right-color: var(--fill-color);\n",
              "      border-bottom-color: var(--fill-color);\n",
              "    }\n",
              "    90% {\n",
              "      border-color: transparent;\n",
              "      border-bottom-color: var(--fill-color);\n",
              "    }\n",
              "  }\n",
              "</style>\n",
              "\n",
              "  <script>\n",
              "    async function quickchart(key) {\n",
              "      const quickchartButtonEl =\n",
              "        document.querySelector('#' + key + ' button');\n",
              "      quickchartButtonEl.disabled = true;  // To prevent multiple clicks.\n",
              "      quickchartButtonEl.classList.add('colab-df-spinner');\n",
              "      try {\n",
              "        const charts = await google.colab.kernel.invokeFunction(\n",
              "            'suggestCharts', [key], {});\n",
              "      } catch (error) {\n",
              "        console.error('Error during call to suggestCharts:', error);\n",
              "      }\n",
              "      quickchartButtonEl.classList.remove('colab-df-spinner');\n",
              "      quickchartButtonEl.classList.add('colab-df-quickchart-complete');\n",
              "    }\n",
              "    (() => {\n",
              "      let quickchartButtonEl =\n",
              "        document.querySelector('#df-5a184a12-c8bd-4f1f-b1bf-7b7b6ddc1c57 button');\n",
              "      quickchartButtonEl.style.display =\n",
              "        google.colab.kernel.accessAllowed ? 'block' : 'none';\n",
              "    })();\n",
              "  </script>\n",
              "</div>\n",
              "    </div>\n",
              "  </div>\n"
            ]
          },
          "metadata": {},
          "execution_count": 3
        }
      ]
    },
    {
      "cell_type": "markdown",
      "source": [
        "Data Exploration and Visualization:"
      ],
      "metadata": {
        "id": "88tk9u79HcxG"
      }
    },
    {
      "cell_type": "markdown",
      "source": [
        "EDA exploratory data analysis"
      ],
      "metadata": {
        "id": "dDk55Y4_HeMQ"
      }
    },
    {
      "cell_type": "code",
      "source": [
        "#Basic information\n",
        "df.info()\n",
        "\n",
        "#Describe the data\n",
        "df.describe()\n",
        "\n",
        "#Find the duplicates\n",
        "df.duplicated().sum()"
      ],
      "metadata": {
        "colab": {
          "base_uri": "https://localhost:8080/"
        },
        "id": "0kAwd3J7HhyW",
        "outputId": "8cc4bfef-472e-4f5e-a550-070c797ad616"
      },
      "execution_count": null,
      "outputs": [
        {
          "output_type": "stream",
          "name": "stdout",
          "text": [
            "<class 'pandas.core.frame.DataFrame'>\n",
            "RangeIndex: 14249 entries, 0 to 14248\n",
            "Data columns (total 10 columns):\n",
            " #   Column             Non-Null Count  Dtype  \n",
            "---  ------             --------------  -----  \n",
            " 0   avg_monthly_hrs    14249 non-null  int64  \n",
            " 1   department         13540 non-null  object \n",
            " 2   filed_complaint    2058 non-null   float64\n",
            " 3   last_evaluation    12717 non-null  float64\n",
            " 4   n_projects         14249 non-null  int64  \n",
            " 5   recently_promoted  300 non-null    float64\n",
            " 6   salary             14249 non-null  object \n",
            " 7   satisfaction       14068 non-null  float64\n",
            " 8   status             14249 non-null  object \n",
            " 9   tenure             14068 non-null  float64\n",
            "dtypes: float64(5), int64(2), object(3)\n",
            "memory usage: 1.1+ MB\n"
          ]
        },
        {
          "output_type": "execute_result",
          "data": {
            "text/plain": [
              "28"
            ]
          },
          "metadata": {},
          "execution_count": 4
        }
      ]
    },
    {
      "cell_type": "code",
      "source": [
        "#unique values\n",
        "df['tenure'].unique()"
      ],
      "metadata": {
        "colab": {
          "base_uri": "https://localhost:8080/"
        },
        "id": "AndUmOvrKjSG",
        "outputId": "4a3ffb4c-56d2-44ca-a591-cae7cc5286ed"
      },
      "execution_count": null,
      "outputs": [
        {
          "output_type": "execute_result",
          "data": {
            "text/plain": [
              "array([ 5.,  2.,  3.,  4.,  7.,  6., nan, 10.,  8.])"
            ]
          },
          "metadata": {},
          "execution_count": 5
        }
      ]
    },
    {
      "cell_type": "markdown",
      "source": [
        "distribution of employee tenure using a histogram."
      ],
      "metadata": {
        "id": "K-DzesiDScPC"
      }
    },
    {
      "cell_type": "code",
      "source": [
        "df['tenure'].plot(kind='hist')\n",
        "plt.title('Employee Tenure')\n",
        "plt.xlabel('Tenure Rate')\n",
        "plt.ylabel('No. of Employees')"
      ],
      "metadata": {
        "colab": {
          "base_uri": "https://localhost:8080/",
          "height": 489
        },
        "id": "Dv_9zWmTLGO1",
        "outputId": "44040fb9-6c38-4788-c605-9bd59e5b0415"
      },
      "execution_count": null,
      "outputs": [
        {
          "output_type": "execute_result",
          "data": {
            "text/plain": [
              "Text(0, 0.5, 'No. of Employees')"
            ]
          },
          "metadata": {},
          "execution_count": 6
        },
        {
          "output_type": "display_data",
          "data": {
            "text/plain": [
              "<Figure size 640x480 with 1 Axes>"
            ],
            "image/png": "[encoded data removed]"
          },
          "metadata": {}
        }
      ]
    },
    {
      "cell_type": "code",
      "source": [
        "# Create a new column to indicate whether the employee left the company\n",
        "df['status'] = df['satisfaction'] == 1\n",
        "\n",
        "# Create a boxplot of job satisfaction scores by whether the employee left the company\n",
        "sns.boxplot(\n",
        "    x = 'status',\n",
        "    y = 'satisfaction',\n",
        "    showmeans=True,\n",
        "    data=df\n",
        ")\n",
        "# Rotate x labels to prevent overlapping\n",
        "sns.set(xticklabels=sns.despine(bottom=True).get_xticklabels(), rotation=45)\n",
        "\n",
        "# Display the plot\n",
        "plt.show()\n"
      ],
      "metadata": {
        "id": "Fi6itYOHLlS0"
      },
      "execution_count": null,
      "outputs": []
    },
    {
      "cell_type": "markdown",
      "source": [
        "pie chart to show the distribution of attrition"
      ],
      "metadata": {
        "id": "0AfXIY2SLF7G"
      }
    },
    {
      "cell_type": "code",
      "source": [
        "Left = df['status'].value_counts()\n",
        "Employed = df['status'].value_counts()\n",
        "\n",
        "pct_left = Left / (Left + Employed) * 100\n",
        "pct_employed = Employed / (Left + Employed) * 100\n",
        "\n",
        "# Create a one-dimensional array of the percentages\n",
        "x = [pct_left, pct_employed]\n",
        "\n",
        "\n",
        "plt.figure(figsize=(10, 10))\n",
        "plt.pie(x, labels=['Left', 'Employed'], autopct='%1.1f%%')\n",
        "plt.title('Attrition Distribution')\n",
        "plt.show()\n"
      ],
      "metadata": {
        "id": "TQUuWuG2T-_d"
      },
      "execution_count": null,
      "outputs": []
    },
    {
      "cell_type": "markdown",
      "source": [
        "scatter plot"
      ],
      "metadata": {
        "id": "jqRfXQZhZuai"
      }
    },
    {
      "cell_type": "code",
      "source": [
        "# Load the data from a file\n",
        "df = np.loadtxt('employee_data.csv', delimiter=',')\n",
        "\n",
        "# Split the data into x and y arrays\n",
        "x = data[:, 0]  # Employee satisfaction scores\n",
        "y = data[:, 1]  # Last evaluation scores\n",
        "\n",
        "\n",
        "# Create a scatter plot with the x and y arrays\n",
        "plt.scatter(x, y, c='blue')\n",
        "\n",
        "# Add labels and a title to the plot\n",
        "plt.xlabel('Employee satisfaction score')\n",
        "plt.ylabel('Last evaluation score')\n",
        "plt.title('Scatter plot of employee satisfaction scores vs last evaluation scores')\n",
        "\n",
        "# Add a legend to the plot\n",
        "plt.legend(['Employees'], loc='upper left')\n",
        "\n",
        "# Display the plot\n",
        "plt.show()"
      ],
      "metadata": {
        "id": "KusPtUPAZvjQ"
      },
      "execution_count": null,
      "outputs": []
    },
    {
      "cell_type": "markdown",
      "source": [
        "Decision tree"
      ],
      "metadata": {
        "id": "Pg8xeYw7cJNQ"
      }
    },
    {
      "cell_type": "code",
      "source": [
        "# Drop the missing values\n",
        "df = df.dropna()"
      ],
      "metadata": {
        "id": "j-rHIFKIibp2"
      },
      "execution_count": null,
      "outputs": []
    },
    {
      "cell_type": "code",
      "source": [
        "# Select the features to use for training the model\n",
        "features = ['tenure', 'satisfaction', 'n_projects']\n",
        "\n",
        "# Create a NumPy array of the features\n",
        "X = df[features].to_numpy()\n",
        "\n",
        "# Create a NumPy array of the labels\n",
        "y = df['status'].to_numpy()\n",
        "\n",
        "# Split the data into training and testing sets\n",
        "X_train, X_test, y_train, y_test = train_test_split(X, y, test_size=0.2, random_state=42)\n",
        "\n"
      ],
      "metadata": {
        "id": "2ZQpr1EPWgXH"
      },
      "execution_count": null,
      "outputs": []
    },
    {
      "cell_type": "code",
      "source": [
        "# Create the decision tree classifier\n",
        "model = DecisionTreeClassifier()\n"
      ],
      "metadata": {
        "id": "qEVhLJ3uhaSc"
      },
      "execution_count": null,
      "outputs": []
    },
    {
      "cell_type": "code",
      "source": [
        "from sklearn.impute import SimpleImputer\n",
        "\n",
        "# Create a SimpleImputer object\n",
        "imputer = SimpleImputer(strategy='mean')\n",
        "\n",
        "# Impute the missing values in the training data\n",
        "X_train = imputer.fit_transform(X_train)\n",
        "\n",
        "# Train the decision tree classifier on the imputed training data\n",
        "model.fit(X_train, y_train)"
      ],
      "metadata": {
        "colab": {
          "base_uri": "https://localhost:8080/",
          "height": 74
        },
        "id": "0RsWF9h4hd5L",
        "outputId": "5baa538b-3a84-4619-a834-7458160d93ac"
      },
      "execution_count": null,
      "outputs": [
        {
          "output_type": "execute_result",
          "data": {
            "text/plain": [
              "DecisionTreeClassifier()"
            ],
            "text/html": [
              "<style>#sk-container-id-1 {color: black;background-color: white;}#sk-container-id-1 pre{padding: 0;}#sk-container-id-1 div.sk-toggleable {background-color: white;}#sk-container-id-1 label.sk-toggleable__label {cursor: pointer;display: block;width: 100%;margin-bottom: 0;padding: 0.3em;box-sizing: border-box;text-align: center;}#sk-container-id-1 label.sk-toggleable__label-arrow:before {content: \"▸\";float: left;margin-right: 0.25em;color: #696969;}#sk-container-id-1 label.sk-toggleable__label-arrow:hover:before {color: black;}#sk-container-id-1 div.sk-estimator:hover label.sk-toggleable__label-arrow:before {color: black;}#sk-container-id-1 div.sk-toggleable__content {max-height: 0;max-width: 0;overflow: hidden;text-align: left;background-color: #f0f8ff;}#sk-container-id-1 div.sk-toggleable__content pre {margin: 0.2em;color: black;border-radius: 0.25em;background-color: #f0f8ff;}#sk-container-id-1 input.sk-toggleable__control:checked~div.sk-toggleable__content {max-height: 200px;max-width: 100%;overflow: auto;}#sk-container-id-1 input.sk-toggleable__control:checked~label.sk-toggleable__label-arrow:before {content: \"▾\";}#sk-container-id-1 div.sk-estimator input.sk-toggleable__control:checked~label.sk-toggleable__label {background-color: #d4ebff;}#sk-container-id-1 div.sk-label input.sk-toggleable__control:checked~label.sk-toggleable__label {background-color: #d4ebff;}#sk-container-id-1 input.sk-hidden--visually {border: 0;clip: rect(1px 1px 1px 1px);clip: rect(1px, 1px, 1px, 1px);height: 1px;margin: -1px;overflow: hidden;padding: 0;position: absolute;width: 1px;}#sk-container-id-1 div.sk-estimator {font-family: monospace;background-color: #f0f8ff;border: 1px dotted black;border-radius: 0.25em;box-sizing: border-box;margin-bottom: 0.5em;}#sk-container-id-1 div.sk-estimator:hover {background-color: #d4ebff;}#sk-container-id-1 div.sk-parallel-item::after {content: \"\";width: 100%;border-bottom: 1px solid gray;flex-grow: 1;}#sk-container-id-1 div.sk-label:hover label.sk-toggleable__label {background-color: #d4ebff;}#sk-container-id-1 div.sk-serial::before {content: \"\";position: absolute;border-left: 1px solid gray;box-sizing: border-box;top: 0;bottom: 0;left: 50%;z-index: 0;}#sk-container-id-1 div.sk-serial {display: flex;flex-direction: column;align-items: center;background-color: white;padding-right: 0.2em;padding-left: 0.2em;position: relative;}#sk-container-id-1 div.sk-item {position: relative;z-index: 1;}#sk-container-id-1 div.sk-parallel {display: flex;align-items: stretch;justify-content: center;background-color: white;position: relative;}#sk-container-id-1 div.sk-item::before, #sk-container-id-1 div.sk-parallel-item::before {content: \"\";position: absolute;border-left: 1px solid gray;box-sizing: border-box;top: 0;bottom: 0;left: 50%;z-index: -1;}#sk-container-id-1 div.sk-parallel-item {display: flex;flex-direction: column;z-index: 1;position: relative;background-color: white;}#sk-container-id-1 div.sk-parallel-item:first-child::after {align-self: flex-end;width: 50%;}#sk-container-id-1 div.sk-parallel-item:last-child::after {align-self: flex-start;width: 50%;}#sk-container-id-1 div.sk-parallel-item:only-child::after {width: 0;}#sk-container-id-1 div.sk-dashed-wrapped {border: 1px dashed gray;margin: 0 0.4em 0.5em 0.4em;box-sizing: border-box;padding-bottom: 0.4em;background-color: white;}#sk-container-id-1 div.sk-label label {font-family: monospace;font-weight: bold;display: inline-block;line-height: 1.2em;}#sk-container-id-1 div.sk-label-container {text-align: center;}#sk-container-id-1 div.sk-container {/* jupyter's `normalize.less` sets `[hidden] { display: none; }` but bootstrap.min.css set `[hidden] { display: none !important; }` so we also need the `!important` here to be able to override the default hidden behavior on the sphinx rendered scikit-learn.org. See: https://github.com/scikit-learn/scikit-learn/issues/21755 */display: inline-block !important;position: relative;}#sk-container-id-1 div.sk-text-repr-fallback {display: none;}</style><div id=\"sk-container-id-1\" class=\"sk-top-container\"><div class=\"sk-text-repr-fallback\"><pre>DecisionTreeClassifier()</pre><b>In a Jupyter environment, please rerun this cell to show the HTML representation or trust the notebook. <br />On GitHub, the HTML representation is unable to render, please try loading this page with nbviewer.org.</b></div><div class=\"sk-container\" hidden><div class=\"sk-item\"><div class=\"sk-estimator sk-toggleable\"><input class=\"sk-toggleable__control sk-hidden--visually\" id=\"sk-estimator-id-1\" type=\"checkbox\" checked><label for=\"sk-estimator-id-1\" class=\"sk-toggleable__label sk-toggleable__label-arrow\">DecisionTreeClassifier</label><div class=\"sk-toggleable__content\"><pre>DecisionTreeClassifier()</pre></div></div></div></div></div>"
            ]
          },
          "metadata": {},
          "execution_count": 38
        }
      ]
    },
    {
      "cell_type": "code",
      "source": [
        "# Evaluate the model on the testing set\n",
        "y_pred = model.predict(X_test)\n",
        "\n",
        "# Calculate the accuracy of the model\n",
        "accuracy = np.mean(y_pred == y_test)\n",
        "\n",
        "# Print the accuracy of the model\n",
        "print('Accuracy:', accuracy)"
      ],
      "metadata": {
        "id": "zCmBvLbtjAkS"
      },
      "execution_count": null,
      "outputs": []
    },
    {
      "cell_type": "code",
      "source": [
        "# Create a NumPy array of the features for new employees\n",
        "new_employee_features = np.array([[1, 4, 3]])\n",
        "\n",
        "# Predict employee attrition for new employees\n",
        "new_employee_predictions = model.predict(new_employee_features)\n",
        "\n",
        "# Print the employee attrition predictions\n",
        "print('Employee attrition predictions:', new_employee_predictions)"
      ],
      "metadata": {
        "id": "MHc4MAXNjJDJ"
      },
      "execution_count": null,
      "outputs": []
    },
    {
      "cell_type": "markdown",
      "source": [
        "Gini impurity"
      ],
      "metadata": {
        "id": "YLgru3ockPFN"
      }
    },
    {
      "cell_type": "code",
      "source": [
        "#A figure is created to show Gini ımpurity measures\n",
        "plt.figure()\n",
        "x = np.linspace(0.01,1)\n",
        "y = 1 - (x*x) - (1-x)*(1-x)\n",
        "plt.plot(x,y)\n",
        "plt.title('Gini Impurity')\n",
        "plt.xlabel(\"Fraction of Class k ($p_k$)\")\n",
        "plt.ylabel(\"Impurity Measure\")\n",
        "plt.xticks(np.arange(0,1.1,0.1))\n",
        "\n",
        "plt.show()"
      ],
      "metadata": {
        "colab": {
          "base_uri": "https://localhost:8080/",
          "height": 476
        },
        "id": "Qca5TlgTkOSG",
        "outputId": "c00ad89c-cbf6-48de-90bd-475ffa7b286d"
      },
      "execution_count": 42,
      "outputs": [
        {
          "output_type": "display_data",
          "data": {
            "text/plain": [
              "<Figure size 640x480 with 1 Axes>"
            ],
            "image/png": "[encoded data removed]"
          },
          "metadata": {}
        }
      ]
    }
  ]
}